{
 "cells": [
  {
   "cell_type": "markdown",
   "metadata": {},
   "source": [
    "# Using Python to solve real-life problem"
   ]
  },
  {
   "cell_type": "markdown",
   "metadata": {},
   "source": [
    "##### Using python script to extract the temperatures of various town centre in Singapore from http://www.weather.gov.sg/weather-currentobservations-temperature/. "
   ]
  },
  {
   "cell_type": "markdown",
   "metadata": {},
   "source": [
    "#### Inspect the weather webpage. Notice that the weather information for each town is wrap in a _span_ element with class=\"sgr points\":"
   ]
  },
  {
   "cell_type": "markdown",
   "metadata": {},
   "source": [
    "~~~\n",
    "<span id=\"S109\" class=\"sgr points\" \n",
    "data-toggle=\"popover\" data-placement=\"top\" data-trigger=\"hover\" \n",
    "data-content=\"<ul class='list-unstyled'><li>Location: <strong>Ang Mo Kio</strong></li></ul>\" \n",
    "data-original-title=\"\" title=\"\" onclick=\"showByClickSpan('S109')\" \n",
    "style=\"display: block; top: 188.934px; left: 407.431px;\">31.0</span>\n",
    "~~~"
   ]
  },
  {
   "cell_type": "markdown",
   "metadata": {},
   "source": [
    "#### We going to use a poweerful librray BeautifulSoup to extract these weather info !\n",
    "Install <b>BeautifulSoup</b> with: <br>\n",
    "    pip install bs4"
   ]
  },
  {
   "cell_type": "code",
   "execution_count": null,
   "metadata": {},
   "outputs": [],
   "source": [
    "# library to read a webpage and parse the information we want\n",
    "import requests\n",
    "from bs4 import BeautifulSoup"
   ]
  },
  {
   "cell_type": "code",
   "execution_count": null,
   "metadata": {},
   "outputs": [],
   "source": [
    "# Get the webpage\n",
    "r = requests.get(\"http://www.weather.gov.sg/weather-currentobservations-temperature/\")"
   ]
  },
  {
   "cell_type": "code",
   "execution_count": null,
   "metadata": {},
   "outputs": [],
   "source": [
    "# Send it to BeautifulSoup to cook\n",
    "soup = BeautifulSoup(r.text, \"html.parser\")"
   ]
  },
  {
   "cell_type": "code",
   "execution_count": null,
   "metadata": {},
   "outputs": [],
   "source": [
    "# Find all the span elements;  spans will be a list conatining all the spans\n",
    "spans= soup.findAll('span', attrs= {'class': 'sgr points'})"
   ]
  },
  {
   "cell_type": "code",
   "execution_count": null,
   "metadata": {},
   "outputs": [],
   "source": [
    "# How many are there?  Each represent a town\n",
    "len(spans)"
   ]
  },
  {
   "cell_type": "code",
   "execution_count": null,
   "metadata": {},
   "outputs": [],
   "source": [
    "# The text of this span is the temperatuyre\n",
    "# get the temperature of the 1st town\n",
    "# remember the index of 1st eleemnt of a list is 0\n",
    "spans[0].text"
   ]
  },
  {
   "cell_type": "code",
   "execution_count": null,
   "metadata": {},
   "outputs": [],
   "source": [
    "# Can you spot the name of the 1st town?\n",
    "spans[0]"
   ]
  },
  {
   "cell_type": "code",
   "execution_count": null,
   "metadata": {},
   "outputs": [],
   "source": [
    "data = spans[0]['data-content']"
   ]
  },
  {
   "cell_type": "code",
   "execution_count": null,
   "metadata": {},
   "outputs": [],
   "source": [
    "data"
   ]
  },
  {
   "cell_type": "markdown",
   "metadata": {},
   "source": [
    "#### We will use a powerful tool regular exporession to pattern match the town"
   ]
  },
  {
   "cell_type": "code",
   "execution_count": null,
   "metadata": {},
   "outputs": [],
   "source": [
    "import re\n",
    "match = re.search(r\"<strong>([a-zA-Z]+)</strong>\", data)\n",
    "print (match.group(1))"
   ]
  },
  {
   "cell_type": "code",
   "execution_count": null,
   "metadata": {},
   "outputs": [],
   "source": [
    "# Iterature through the list to print out the tempearures of each town\n",
    "for s in spans:\n",
    "    match = re.search(r\"<strong>([a-zA-Z \\(\\)]+)</strong>\",s['data-content'])    \n",
    "    print ('{0:30}\\t{1}'.format(match.group(1), s.text))"
   ]
  },
  {
   "cell_type": "code",
   "execution_count": null,
   "metadata": {},
   "outputs": [],
   "source": [
    "# We can write a function to get the temperature of a specific town\n",
    "def get_temperature(town: str) -> float :\n",
    "    r = requests.get(\"http://www.weather.gov.sg/weather-currentobservations-temperature/\")\n",
    "    soup = BeautifulSoup(r.text, \"html.parser\")\n",
    "    s_spans= soup.findAll('span', attrs= {'class': 'sgr points'})\n",
    "    for s in s_spans:\n",
    "        match = re.search(r\"<strong>([a-zA-Z \\(\\)]+)</strong>\",s['data-content'])  \n",
    "        if match.group(1) == town:\n",
    "            return float(s.text)\n",
    "    return None"
   ]
  },
  {
   "cell_type": "code",
   "execution_count": 19,
   "metadata": {},
   "outputs": [],
   "source": [
    "'''\n",
    " We make a function that return a dictionary of town/temprature pair\n",
    "'''\n",
    "def getSGWeather() -> dict:\n",
    "    result = {}\n",
    "    r = requests.get(\"http://www.weather.gov.sg/weather-currentobservations-temperature/\")\n",
    "    soup = BeautifulSoup(r.text, \"html.parser\")\n",
    "    s_spans= soup.findAll('span', attrs= {'class': 'sgr points'})    \n",
    "    for s in s_spans:\n",
    "        match = re.search(r\"<strong>([a-zA-Z \\(\\)]+)</strong>\",s['data-content']) \n",
    "        result[match.group(1)] = float(s.text)\n",
    "    return result "
   ]
  },
  {
   "cell_type": "code",
   "execution_count": null,
   "metadata": {},
   "outputs": [],
   "source": [
    "get_temperature('Clementi')"
   ]
  },
  {
   "cell_type": "markdown",
   "metadata": {},
   "source": [
    "The following code is from [How to Send Emails with Gmail using Python](http://stackabuse.com/how-to-send-emails-with-gmail-using-python/)<br>With this you can send emaiul alert if value exceed a threshold <br>\n",
    "[Configure your gmail account to let less secure apps use your account](https://myaccount.google.com/lesssecureapps)"
   ]
  },
  {
   "cell_type": "code",
   "execution_count": null,
   "metadata": {},
   "outputs": [],
   "source": [
    "#Let less secure apps use your account\n",
    "import smtplib\n",
    "\n",
    "gmail_user = 'your gmail account'  \n",
    "gmail_password = 'your password'\n",
    "\n",
    "sent_from = gmail_user  \n",
    "to = ['receiver email']  \n",
    "subject = 'Hello World'  \n",
    "body = 'Hello World\\n'\n",
    "\n",
    "email_text = \"\"\"  \n",
    "From: {0} \n",
    "To: {1}  \n",
    "Subject: {2}\n",
    "\n",
    "{3}\n",
    "\"\"\".format (sent_from, \", \".join(to), subject, body)\n",
    "\n",
    "try:  \n",
    "    server = smtplib.SMTP_SSL('smtp.gmail.com', 465)\n",
    "    server.ehlo()\n",
    "    server.login(gmail_user, gmail_password)\n",
    "    server.sendmail(sent_from, to, email_text)\n",
    "    server.close()\n",
    "except:  \n",
    "    print ('Something went wrong...')"
   ]
  },
  {
   "cell_type": "markdown",
   "metadata": {},
   "source": [
    "#### Write the tempatures with date-time stamp into a CSV files. The file sg-weather.csv.  You should see in your folder at Jupyter homepage. Click on on it to view."
   ]
  },
  {
   "cell_type": "code",
   "execution_count": 16,
   "metadata": {},
   "outputs": [],
   "source": [
    "import csv\n",
    "from datetime import datetime# open a csv file with append, so old data will not be erased\n",
    "with open('sg-weather.csv', 'a',newline='') as csv_file:\n",
    "    writer = csv.writer(csv_file)\n",
    "    for s in spans:\n",
    "        match = re.search(r\"<strong>([a-zA-Z \\(\\)]+)</strong>\",s['data-content'])    \n",
    "        writer.writerow([match.group(1), s.text, datetime.now()])"
   ]
  },
  {
   "cell_type": "markdown",
   "metadata": {},
   "source": [
    "## Use pandas to plot the temperature"
   ]
  },
  {
   "cell_type": "code",
   "execution_count": 21,
   "metadata": {},
   "outputs": [],
   "source": [
    "# import Pandas\n",
    "import pandas as pd\n",
    "%matplotlib inline"
   ]
  },
  {
   "cell_type": "code",
   "execution_count": 22,
   "metadata": {},
   "outputs": [
    {
     "data": {
      "image/png": "[encoded data removed]",
      "text/plain": [
       "<Figure size 432x288 with 1 Axes>"
      ]
     },
     "metadata": {
      "needs_background": "light"
     },
     "output_type": "display_data"
    }
   ],
   "source": [
    "# w store the dictionary of town/temperature pairs returned from getSGWeather()\n",
    "w = getSGWeather()\n",
    "df = pd.DataFrame({'Town':list(w.keys()), 'Temp':list(w.values())})\n",
    "ax = df.plot.bar(x='Town', y='Temp', rot=90)"
   ]
  },
  {
   "cell_type": "code",
   "execution_count": 23,
   "metadata": {},
   "outputs": [
    {
     "data": {
      "text/html": [
       "<div>\n",
       "<style scoped>\n",
       "    .dataframe tbody tr th:only-of-type {\n",
       "        vertical-align: middle;\n",
       "    }\n",
       "\n",
       "    .dataframe tbody tr th {\n",
       "        vertical-align: top;\n",
       "    }\n",
       "\n",
       "    .dataframe thead th {\n",
       "        text-align: right;\n",
       "    }\n",
       "</style>\n",
       "<table border=\"1\" class=\"dataframe\">\n",
       "  <thead>\n",
       "    <tr style=\"text-align: right;\">\n",
       "      <th></th>\n",
       "      <th>Town</th>\n",
       "      <th>Temp</th>\n",
       "    </tr>\n",
       "  </thead>\n",
       "  <tbody>\n",
       "    <tr>\n",
       "      <td>1</td>\n",
       "      <td>Pulau Ubin</td>\n",
       "      <td>24.4</td>\n",
       "    </tr>\n",
       "    <tr>\n",
       "      <td>4</td>\n",
       "      <td>Newton</td>\n",
       "      <td>25.0</td>\n",
       "    </tr>\n",
       "    <tr>\n",
       "      <td>11</td>\n",
       "      <td>Tai Seng</td>\n",
       "      <td>25.1</td>\n",
       "    </tr>\n",
       "    <tr>\n",
       "      <td>13</td>\n",
       "      <td>Clementi</td>\n",
       "      <td>25.1</td>\n",
       "    </tr>\n",
       "    <tr>\n",
       "      <td>3</td>\n",
       "      <td>Ang Mo Kio</td>\n",
       "      <td>25.5</td>\n",
       "    </tr>\n",
       "    <tr>\n",
       "      <td>0</td>\n",
       "      <td>Admiralty</td>\n",
       "      <td>25.8</td>\n",
       "    </tr>\n",
       "    <tr>\n",
       "      <td>10</td>\n",
       "      <td>Changi</td>\n",
       "      <td>25.9</td>\n",
       "    </tr>\n",
       "    <tr>\n",
       "      <td>6</td>\n",
       "      <td>Pasir Panjang</td>\n",
       "      <td>26.1</td>\n",
       "    </tr>\n",
       "    <tr>\n",
       "      <td>12</td>\n",
       "      <td>Jurong (West)</td>\n",
       "      <td>26.2</td>\n",
       "    </tr>\n",
       "    <tr>\n",
       "      <td>7</td>\n",
       "      <td>Jurong Island</td>\n",
       "      <td>26.5</td>\n",
       "    </tr>\n",
       "    <tr>\n",
       "      <td>8</td>\n",
       "      <td>Choa Chu Kang (South)</td>\n",
       "      <td>26.5</td>\n",
       "    </tr>\n",
       "    <tr>\n",
       "      <td>2</td>\n",
       "      <td>East Coast Parkway</td>\n",
       "      <td>26.8</td>\n",
       "    </tr>\n",
       "    <tr>\n",
       "      <td>9</td>\n",
       "      <td>Tengah</td>\n",
       "      <td>27.0</td>\n",
       "    </tr>\n",
       "    <tr>\n",
       "      <td>5</td>\n",
       "      <td>Tuas South</td>\n",
       "      <td>27.6</td>\n",
       "    </tr>\n",
       "  </tbody>\n",
       "</table>\n",
       "</div>"
      ],
      "text/plain": [
       "                     Town  Temp\n",
       "1              Pulau Ubin  24.4\n",
       "4                  Newton  25.0\n",
       "11               Tai Seng  25.1\n",
       "13               Clementi  25.1\n",
       "3              Ang Mo Kio  25.5\n",
       "0               Admiralty  25.8\n",
       "10                 Changi  25.9\n",
       "6           Pasir Panjang  26.1\n",
       "12          Jurong (West)  26.2\n",
       "7           Jurong Island  26.5\n",
       "8   Choa Chu Kang (South)  26.5\n",
       "2      East Coast Parkway  26.8\n",
       "9                  Tengah  27.0\n",
       "5              Tuas South  27.6"
      ]
     },
     "execution_count": 23,
     "metadata": {},
     "output_type": "execute_result"
    }
   ],
   "source": [
    "df.sort_values(by=[\"Temp\"])"
   ]
  },
  {
   "cell_type": "code",
   "execution_count": 29,
   "metadata": {},
   "outputs": [
    {
     "name": "stdout",
     "output_type": "stream",
     "text": [
      "teamparture range 24.4 - 27.6\n"
     ]
    }
   ],
   "source": [
    "print(f\"teamparture range {df.min(axis=0).Temp} - {df.max(axis=0).Temp}\")"
   ]
  },
  {
   "cell_type": "code",
   "execution_count": 33,
   "metadata": {},
   "outputs": [
    {
     "data": {
      "image/png": "[encoded data removed]",
      "text/plain": [
       "<Figure size 432x288 with 1 Axes>"
      ]
     },
     "metadata": {
      "needs_background": "light"
     },
     "output_type": "display_data"
    }
   ],
   "source": [
    "ax = df.sort_values(by=[\"Temp\"]).plot.bar(x='Town', y='Temp', rot=90, ylim=[20,30], color=['C0', 'C1', 'C2', 'C3', 'C4'])"
   ]
  },
  {
   "cell_type": "code",
   "execution_count": null,
   "metadata": {},
   "outputs": [],
   "source": []
  }
 ],
 "metadata": {
  "kernelspec": {
   "display_name": "Python 3",
   "language": "python",
   "name": "python3"
  },
  "language_info": {
   "codemirror_mode": {
    "name": "ipython",
    "version": 3
   },
   "file_extension": ".py",
   "mimetype": "text/x-python",
   "name": "python",
   "nbconvert_exporter": "python",
   "pygments_lexer": "ipython3",
   "version": "3.7.4"
  }
 },
 "nbformat": 4,
 "nbformat_minor": 2
}
